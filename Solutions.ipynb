{
 "cells": [
  {
   "cell_type": "markdown",
   "metadata": {},
   "source": [
    "1. Imprime en consola `Hello World`.\n",
    "$ echo \"Hello Work\"\n",
    "\n",
    "2. Crea un directorio nuevo llamado `new_dir`.\n",
    "$ mkdir new_dir\n",
    "\n",
    "3. Elimina ese directorio.\n",
    "$ rm -r new_dir\n",
    "\n",
    "4. Copia el archivo `sed.txt` dentro de la carpeta lorem a la carpeta lorem-copy. TIP: Puede ser necesario crear la carpeta lorem-copy primero. \n",
    "$ mkdir lorem-copy\n",
    "$ cd lorem-copy\n",
    "$ pwd\n",
    "$ cd ..\n",
    "$ cp sed.txt \"/c/Users/Alfredo Tremolada/desktop/clase phyton/clase 1/python4menisco-main/labs/1-lab-bash/lorem/lorem-copy/\"\n",
    "\n",
    "5. Muestra el contenido del archivo `sed.txt` dentro de la carpeta lorem. \n",
    "$ cat sed.txt\n",
    "\n",
    "6. Muestra el contenido de los archivos `at.txt` y `lorem.txt` dentro de la carpeta lorem. \n",
    "$ cat at.txt lorem.txt\n",
    "\n",
    "7. Visualiza las primeras 3 líneas del archivo `sed.txt` dentro de la carpeta lorem-copy \n",
    "$ cd lorem-copy\n",
    "$ head -3 sed.txt\n",
    "\n",
    "8. Añade `Homo homini lupus.` al final de archivo `sed.txt` dentro de la carpeta lorem-copy. \n",
    "$ echo \"homos himini lupus\" >> sed.txt\n",
    "\n",
    "\n",
    "9. Visualiza las últimas 3 líneas del archivo `sed.txt` dentro de la carpeta lorem-copy. Deberías ver ahora `Homo homini lupus.`. \n",
    "$ tail -3 sed.txt\n",
    "\n",
    "10. Encuentra al usuario activo en el sistema.\n",
    "$ whoami\n",
    "\n",
    "11. Encuentra dónde estás en tu sistema de ficheros.\n",
    "$ pwd\n",
    "\n",
    "Lista los archivos que terminan por `.txt` en la carpeta lorem.\n",
    "$ ls *.txt\n",
    "\n",
    "12. Cuenta el número de líneas que tiene el archivo `sed.txt` dentro de la carpeta lorem. \n",
    "$ cd ..\n",
    "$ wc -l sed.txt\n",
    "\n",
    "13. Cuenta el número de **archivos** que empiezan por `lorem` que están en este directorio y en directorios internos.\n",
    "$ find . -iname \"*lorem*\" | wc -l\n",
    "\n",
    "14. Cuenta el número de apariciones del string `et` en `at.txt` dentro de la carpeta lorem. \n",
    "$ grep -c et at.txt\n"
   ]
  }
 ],
 "metadata": {
  "language_info": {
   "name": "python"
  }
 },
 "nbformat": 4,
 "nbformat_minor": 2
}
